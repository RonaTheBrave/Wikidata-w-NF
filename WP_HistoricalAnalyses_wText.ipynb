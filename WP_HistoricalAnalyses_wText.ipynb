{
 "cells": [
  {
   "cell_type": "code",
   "execution_count": 1,
   "id": "a6bbe2d5",
   "metadata": {},
   "outputs": [
    {
     "name": "stdout",
     "output_type": "stream",
     "text": [
      "Requirement already satisfied: wikipedia in /opt/anaconda3/lib/python3.9/site-packages (1.4.0)\n",
      "Requirement already satisfied: setuptools in /opt/anaconda3/lib/python3.9/site-packages (67.2.0)\n",
      "Requirement already satisfied: pywikibot in /opt/anaconda3/lib/python3.9/site-packages (6.6.3)\n",
      "Requirement already satisfied: mwparserfromhell in /opt/anaconda3/lib/python3.9/site-packages (0.6.3)\n",
      "Requirement already satisfied: pandas in /opt/anaconda3/lib/python3.9/site-packages (1.3.4)\n",
      "Requirement already satisfied: numpy in /opt/anaconda3/lib/python3.9/site-packages (1.20.3)\n",
      "Requirement already satisfied: scipy in /opt/anaconda3/lib/python3.9/site-packages (1.7.1)\n",
      "Requirement already satisfied: nltk in /opt/anaconda3/lib/python3.9/site-packages (3.8.1)\n",
      "Requirement already satisfied: tqdm in /opt/anaconda3/lib/python3.9/site-packages (4.62.3)\n",
      "Requirement already satisfied: seaborn in /opt/anaconda3/lib/python3.9/site-packages (0.11.2)\n",
      "Requirement already satisfied: pyqt5 in /opt/anaconda3/lib/python3.9/site-packages (5.15.6)\n",
      "Requirement already satisfied: pyqtwebengine in /opt/anaconda3/lib/python3.9/site-packages (5.15.5)\n",
      "Requirement already satisfied: ruamel-yaml in /opt/anaconda3/lib/python3.9/site-packages (0.17.21)\n",
      "Requirement already satisfied: lxml in /opt/anaconda3/lib/python3.9/site-packages (4.6.3)\n",
      "Requirement already satisfied: beautifulsoup4 in /opt/anaconda3/lib/python3.9/site-packages (from wikipedia) (4.10.0)\n",
      "Requirement already satisfied: requests<3.0.0,>=2.0.0 in /opt/anaconda3/lib/python3.9/site-packages (from wikipedia) (2.26.0)\n",
      "Requirement already satisfied: python-dateutil>=2.7.3 in /opt/anaconda3/lib/python3.9/site-packages (from pandas) (2.8.2)\n",
      "Requirement already satisfied: pytz>=2017.3 in /opt/anaconda3/lib/python3.9/site-packages (from pandas) (2021.3)\n",
      "Requirement already satisfied: regex>=2021.8.3 in /opt/anaconda3/lib/python3.9/site-packages (from nltk) (2021.8.3)\n",
      "Requirement already satisfied: click in /opt/anaconda3/lib/python3.9/site-packages (from nltk) (8.0.3)\n",
      "Requirement already satisfied: joblib in /opt/anaconda3/lib/python3.9/site-packages (from nltk) (1.1.0)\n",
      "Requirement already satisfied: matplotlib>=2.2 in /opt/anaconda3/lib/python3.9/site-packages (from seaborn) (3.4.3)\n",
      "Requirement already satisfied: PyQt5-sip<13,>=12.8 in /opt/anaconda3/lib/python3.9/site-packages (from pyqt5) (12.10.1)\n",
      "Requirement already satisfied: PyQt5-Qt5>=5.15.2 in /opt/anaconda3/lib/python3.9/site-packages (from pyqt5) (5.15.2)\n",
      "Requirement already satisfied: PyQtWebEngine-Qt5>=5.15.2 in /opt/anaconda3/lib/python3.9/site-packages (from pyqtwebengine) (5.15.2)\n",
      "Requirement already satisfied: ruamel.yaml.clib>=0.2.6 in /opt/anaconda3/lib/python3.9/site-packages (from ruamel-yaml) (0.2.6)\n",
      "Requirement already satisfied: kiwisolver>=1.0.1 in /opt/anaconda3/lib/python3.9/site-packages (from matplotlib>=2.2->seaborn) (1.3.1)\n",
      "Requirement already satisfied: pyparsing>=2.2.1 in /opt/anaconda3/lib/python3.9/site-packages (from matplotlib>=2.2->seaborn) (3.0.4)\n",
      "Requirement already satisfied: cycler>=0.10 in /opt/anaconda3/lib/python3.9/site-packages (from matplotlib>=2.2->seaborn) (0.10.0)\n",
      "Requirement already satisfied: pillow>=6.2.0 in /opt/anaconda3/lib/python3.9/site-packages (from matplotlib>=2.2->seaborn) (8.4.0)\n",
      "Requirement already satisfied: six in /opt/anaconda3/lib/python3.9/site-packages (from cycler>=0.10->matplotlib>=2.2->seaborn) (1.16.0)\n",
      "Requirement already satisfied: charset-normalizer~=2.0.0 in /opt/anaconda3/lib/python3.9/site-packages (from requests<3.0.0,>=2.0.0->wikipedia) (2.0.4)\n",
      "Requirement already satisfied: idna<4,>=2.5 in /opt/anaconda3/lib/python3.9/site-packages (from requests<3.0.0,>=2.0.0->wikipedia) (3.2)\n",
      "Requirement already satisfied: urllib3<1.27,>=1.21.1 in /opt/anaconda3/lib/python3.9/site-packages (from requests<3.0.0,>=2.0.0->wikipedia) (1.26.7)\n",
      "Requirement already satisfied: certifi>=2017.4.17 in /opt/anaconda3/lib/python3.9/site-packages (from requests<3.0.0,>=2.0.0->wikipedia) (2021.10.8)\n",
      "Requirement already satisfied: soupsieve>1.2 in /opt/anaconda3/lib/python3.9/site-packages (from beautifulsoup4->wikipedia) (2.2.1)\n"
     ]
    }
   ],
   "source": [
    "!pip install wikipedia setuptools pywikibot mwparserfromhell pandas numpy scipy nltk tqdm seaborn pyqt5 pyqtwebengine ruamel-yaml lxml"
   ]
  },
  {
   "cell_type": "code",
   "execution_count": 2,
   "id": "f81b30b1",
   "metadata": {
    "colab": {
     "base_uri": "https://localhost:8080/"
    },
    "id": "f81b30b1",
    "outputId": "9a8d8ae4-f4ef-4882-d68e-d6eed965eb39"
   },
   "outputs": [],
   "source": [
    "import wikipedia\n",
    "import re\n",
    "import pywikibot\n",
    "import requests\n",
    "from bs4 import BeautifulSoup\n",
    "import pandas as pd\n",
    "from tqdm import tqdm\n",
    "tqdm.pandas()\n",
    "import seaborn as sns\n",
    "import matplotlib.pyplot as plt\n",
    "from urllib.request import urlopen\n",
    "import json"
   ]
  },
  {
   "cell_type": "code",
   "execution_count": 3,
   "id": "fd8bcd14",
   "metadata": {
    "id": "fd8bcd14"
   },
   "outputs": [],
   "source": [
    "wikipedia.set_lang(\"en\")  # Limit the search to English WP"
   ]
  },
  {
   "cell_type": "markdown",
   "id": "5f094d2d",
   "metadata": {},
   "source": [
    "## Creation of a dataframe with the historic references of a wikipedia page"
   ]
  },
  {
   "cell_type": "code",
   "execution_count": 4,
   "id": "3a05251c",
   "metadata": {
    "scrolled": true
   },
   "outputs": [
    {
     "name": "stdout",
     "output_type": "stream",
     "text": [
      "Getting all revisions for Opioid\n",
      "Done!\n",
      "Number of revisions: 2648\n",
      "CPU times: user 6.48 s, sys: 1.57 s, total: 8.05 s\n",
      "Wall time: 2min 34s\n"
     ]
    },
    {
     "data": {
      "text/html": [
       "<div>\n",
       "<style scoped>\n",
       "    .dataframe tbody tr th:only-of-type {\n",
       "        vertical-align: middle;\n",
       "    }\n",
       "\n",
       "    .dataframe tbody tr th {\n",
       "        vertical-align: top;\n",
       "    }\n",
       "\n",
       "    .dataframe thead th {\n",
       "        text-align: right;\n",
       "    }\n",
       "</style>\n",
       "<table border=\"1\" class=\"dataframe\">\n",
       "  <thead>\n",
       "    <tr style=\"text-align: right;\">\n",
       "      <th></th>\n",
       "      <th>parentid</th>\n",
       "      <th>revid</th>\n",
       "      <th>size</th>\n",
       "      <th>text</th>\n",
       "      <th>timestamp</th>\n",
       "    </tr>\n",
       "  </thead>\n",
       "  <tbody>\n",
       "    <tr>\n",
       "      <th>0</th>\n",
       "      <td>1218638171</td>\n",
       "      <td>1219189506</td>\n",
       "      <td>226781</td>\n",
       "      <td>{{short description|Psychoactive chemical}}\\n{...</td>\n",
       "      <td>2024-04-16 07:43:22</td>\n",
       "    </tr>\n",
       "    <tr>\n",
       "      <th>1</th>\n",
       "      <td>1217470626</td>\n",
       "      <td>1218638171</td>\n",
       "      <td>226830</td>\n",
       "      <td>{{short description|Psychoactive chemical}}\\n{...</td>\n",
       "      <td>2024-04-12 22:07:18</td>\n",
       "    </tr>\n",
       "    <tr>\n",
       "      <th>2</th>\n",
       "      <td>1213912529</td>\n",
       "      <td>1217470626</td>\n",
       "      <td>228196</td>\n",
       "      <td>{{short description|Psychoactive chemical}}\\n{...</td>\n",
       "      <td>2024-04-06 01:03:25</td>\n",
       "    </tr>\n",
       "    <tr>\n",
       "      <th>3</th>\n",
       "      <td>1213522866</td>\n",
       "      <td>1213912529</td>\n",
       "      <td>228206</td>\n",
       "      <td>{{short description|Psychoactive chemical}}\\n{...</td>\n",
       "      <td>2024-03-15 21:47:53</td>\n",
       "    </tr>\n",
       "    <tr>\n",
       "      <th>4</th>\n",
       "      <td>1211726128</td>\n",
       "      <td>1213522866</td>\n",
       "      <td>228176</td>\n",
       "      <td>{{short description|Psychoactive chemical}}\\n{...</td>\n",
       "      <td>2024-03-13 15:29:45</td>\n",
       "    </tr>\n",
       "  </tbody>\n",
       "</table>\n",
       "</div>"
      ],
      "text/plain": [
       "     parentid       revid    size  \\\n",
       "0  1218638171  1219189506  226781   \n",
       "1  1217470626  1218638171  226830   \n",
       "2  1213912529  1217470626  228196   \n",
       "3  1213522866  1213912529  228206   \n",
       "4  1211726128  1213522866  228176   \n",
       "\n",
       "                                                text           timestamp  \n",
       "0  {{short description|Psychoactive chemical}}\\n{... 2024-04-16 07:43:22  \n",
       "1  {{short description|Psychoactive chemical}}\\n{... 2024-04-12 22:07:18  \n",
       "2  {{short description|Psychoactive chemical}}\\n{... 2024-04-06 01:03:25  \n",
       "3  {{short description|Psychoactive chemical}}\\n{... 2024-03-15 21:47:53  \n",
       "4  {{short description|Psychoactive chemical}}\\n{... 2024-03-13 15:29:45  "
      ]
     },
     "execution_count": 4,
     "metadata": {},
     "output_type": "execute_result"
    }
   ],
   "source": [
    "%%time\n",
    "page_title = \"Opioid\" # Change this value according to the article you want to scrape revisions from\n",
    "site = pywikibot.Site(\"en\", \"wikipedia\")\n",
    "print('Getting all revisions for {}'.format(page_title))\n",
    "page = pywikibot.Page(site, page_title)\n",
    "rev_gen = page.revisions(content=True)\n",
    "revisions = list(rev_gen)\n",
    "print('Done!')\n",
    "print('Number of revisions: {}'.format(str(len(revisions))))\n",
    "df = pd.DataFrame(revisions)\n",
    "df = df[['parentid', 'revid', 'size', 'text', 'timestamp']]\n",
    "df.head()"
   ]
  },
  {
   "cell_type": "code",
   "execution_count": 4,
   "id": "a8833f8a",
   "metadata": {},
   "outputs": [],
   "source": [
    "# Run to limit versions, add the line in the df to [end:start,]\n",
    "# df =  df.loc[617:,]"
   ]
  },
  {
   "cell_type": "code",
   "execution_count": 5,
   "id": "95762282",
   "metadata": {},
   "outputs": [],
   "source": [
    "df = df.dropna()"
   ]
  },
  {
   "cell_type": "code",
   "execution_count": 6,
   "id": "39c55db0",
   "metadata": {},
   "outputs": [],
   "source": [
    "df = df[~df.timestamp.dt.date.duplicated()]"
   ]
  },
  {
   "cell_type": "code",
   "execution_count": 7,
   "id": "52398fea",
   "metadata": {},
   "outputs": [],
   "source": [
    "df = df.reset_index(drop=True)"
   ]
  },
  {
   "cell_type": "markdown",
   "id": "4b9f98e2",
   "metadata": {},
   "source": [
    "#### definition of the function for the extraction of citation"
   ]
  },
  {
   "cell_type": "code",
   "execution_count": 8,
   "id": "5db5aeda",
   "metadata": {
    "id": "5db5aeda"
   },
   "outputs": [],
   "source": [
    "# Some additional functions\n",
    "def get_ids_from_ref(ref: str)-> dict:\n",
    "    '''\n",
    "    detects if the reference entering this program contains a doi or a pmid or a pmc and if it's the case the return it \n",
    "    Also returns the name of the journal in which the article has been published\n",
    "    \n",
    "    param ref : the string of a reference\n",
    "    \n",
    "    return ids:  a dictionnary containing the doi or pmid or pmc and the journal of the reference if it's a scientific reference\n",
    "    '''\n",
    "    \n",
    "    d = dict(re.findall(r'(doi|pmc|pmid)(?:(?:\\s?[=\\|]\\s?)|(?:\\.)|(?:(?:])*?:)|(?:\\s|\\/)|(?: *=))([^|\\s}]*)', ref))\n",
    "    if d!={}:\n",
    "        recode=re.findall(r'(journal of (?:\\w| )*)',ref)+re.findall(r\"''\\[{2}(.*)\\]{2}''\",ref)+re.findall(r'(?:journal) *?=((?:\\w| |\\[|-|\\.)*)',ref) \n",
    "        if recode!= []:\n",
    "            d[\"journal\"]= recode\n",
    "            #print(d[\"journal\"],ref)\n",
    "        recodeaccess =re.findall(r'doi-access *?=((?:\\w| )*)',ref)\n",
    "        if recodeaccess!= []:\n",
    "            d[\"access\"]= recode\n",
    "        \n",
    "        \n",
    "    ids = {k: v for k, v in d.items() if v}    \n",
    "    return ids\n",
    "\n",
    "#filtering way of getting the citations        \n",
    "def get_citations(wikicode : str)-> dict:\n",
    "    '''\n",
    "    param  wikicode: a string containing the wikicode of the page or section of which we want to extract the code\n",
    "    \n",
    "    return a dictionnary containing all the information about the citation we want to extract\n",
    "    '''\n",
    "    \n",
    "    #detection of the citations in the wikicode new next line fixed on Jan 9th 2024\n",
    "    #citations = [c.lower() for c in re.findall(r'<ref(?:\\s(?:[^\\/]*?))?>((?:.|\\s)*?)<\\/ref>', wikicode) + re.findall(r'({{(?:cite|vcite2|Cite)\\s[^}]*}})', wikicode)]\n",
    "    #s = set()\n",
    "    \n",
    "    \n",
    "    #detection of the citations in the wikicode\n",
    "    citations = [c.lower() for c in re.findall(r'<ref[^\\/>]?>([^<]?)<\\/*?ref>', wikicode) + re.findall(r'({{(?:cite|vcite2|Cite)\\s[^}]*}})', wikicode)]\n",
    "    s = set()\n",
    "    \n",
    "\n",
    "    \n",
    "    i=0\n",
    "    for c in citations: \n",
    "        i+=1\n",
    "        s.update(c.split('<br/>'))\n",
    "        \n",
    "    #Creation of a dataframe containing the citation    \n",
    "    ds = pd.DataFrame(s, columns=['ref'])\n",
    "    ds[\"ref\"] = ds[\"ref\"].apply(lambda x : x.replace(\"\\n\", \" \"))\n",
    "    ds[\"ref_without_space\"] = ds[\"ref\"].apply(lambda x : x.replace(\" \", \"\"))\n",
    "    ds[\"ref_without_space\"] =  ds[\"ref_without_space\"].apply(lambda x : x.strip())\n",
    "    ds = ds[(~ds['ref_without_space'].duplicated())]\n",
    "    \n",
    "    ds['scientific_ids'] = ds['ref'].apply(get_ids_from_ref)\n",
    "    ds['pmid'] = ds['scientific_ids'].apply(lambda x: x.get('pmid', None))\n",
    "    ds['doi'] = ds['scientific_ids'].apply(lambda x: x.get('doi', None))\n",
    "    ds['pmc'] = ds['scientific_ids'].apply(lambda x: x.get('pmc', None))\n",
    "    ds[\"journal\"]=ds['scientific_ids'].apply(lambda x: x.get('journal', None))    \n",
    "    ds[\"journal\"] =ds[\"journal\"].apply(lambda x: x[0] if type(x)== list else x)\n",
    "    \n",
    "    ds = ds[(~ds['pmid'].duplicated()) | (ds['pmid'].isnull())]\n",
    "    ds = ds[(~ds['doi'].duplicated()) | (ds['doi'].isnull())]\n",
    "    ds = ds[(~ds['pmc'].duplicated()) | (ds['pmc'].isnull())]\n",
    "\n",
    "    ds['IP_guar_ipbes']=ds['ref'].apply(get_IPCC_guardian_ipbes_from_ref)\n",
    "    ds['IPCC'] = ds['IP_guar_ipbes'].apply(lambda x: x.get('IPCC', None))\n",
    "    ds['ipbes'] = ds['IP_guar_ipbes'].apply(lambda x: x.get('ipbes', None))\n",
    "    ds['guard'] = ds['IP_guar_ipbes'].apply(lambda x: x.get('guardian', None))\n",
    "\n",
    "    ds['site'] = ds['ref'].apply(get_cit_from_ref)\n",
    "    ds['org'] = ds['site'].apply(lambda x: x.get('org', None))\n",
    "    ds['gov'] = ds['site'].apply(lambda x: x.get('gov', None))\n",
    "    ds['com'] = ds['site'].apply(lambda x: x.get('com', None))\n",
    "    ds['ncbi'] = ds['site'].apply(lambda x: x.get('ncbi.nlm.nih.gov', None))\n",
    "    \n",
    "    dic = {'Ref count': ds.shape[0],\n",
    "           'Ref' : ds['ref'],\n",
    "           'journal_count': ds[(~ds['journal'].isnull())].shape[0]+ ds[(~ds['ncbi'].isnull())].shape[0],\n",
    "           'ref_without_space' : ds[\"ref_without_space\"],\n",
    "           'nb_journal_citations': (ds[(~ds['ncbi'].isnull())]).shape[0]+ds[(~ds['pmid'].isnull()) | (~ds['doi'].isnull()) | (~ds['pmc'].isnull())].shape[0],\n",
    "           \"citationjournal\":list(list(ds[\"doi\"])+list(ds[\"pmid\"])+list(ds[\"pmc\"])+list(ds[\"ncbi\"])),\n",
    "           \"citations.org\": ds[(~ds['org'].isnull())].shape[0],\n",
    "           \"citations.gov\": ds[(~ds['gov'].isnull())].shape[0],\n",
    "           \"citationgovtext\":list(ds[(~ds['gov'].isnull())][\"gov\"]),\n",
    "           \"citationorgtext\":list(ds[(~ds['org'].isnull())][\"org\"]),\n",
    "           \"citationsIPCC.ch\": ds[(~ds['IPCC'].isnull())].shape[0],\n",
    "           \"list_IPCC\" : list(ds[(~ds['IPCC'].isnull())][\"ref\"]),\n",
    "           \"ids\" : list(ds[(~ds['scientific_ids'].isnull())][\"scientific_ids\"]),\n",
    "           \"citationcomtext\":list(ds[(~ds['com'].isnull())][\"com\"]),\n",
    "           \"journal\": list(ds[(~ds['journal'].isnull())][\"journal\"])+list(ds[(~ds['ncbi'].isnull())]),\n",
    "           \"citations.com\": ds[(~ds['com'].isnull())].shape[0],\n",
    "           \"citationsipbes\": ds[(~ds['ipbes'].isnull())].shape[0],\n",
    "           \"citationguardian\": ds[(~ds['guard'].isnull())].shape[0]}\n",
    "    \n",
    "    return dic"
   ]
  },
  {
   "cell_type": "code",
   "execution_count": 9,
   "id": "8a5bacee",
   "metadata": {},
   "outputs": [],
   "source": [
    "def get_cit_from_ref(ref: str)-> dict:\n",
    "    '''\n",
    "    detects if the reference entering this program contains a.org, .gov or .com citation except if it's a guardian citation\n",
    "    \n",
    "    param ref : the string of a citation\n",
    "    \n",
    "    return ids:  a dictionnary containing as keys org, gov and com and in values the name of the site of the citation\n",
    "    '''\n",
    "    d = dict(re.findall(r\"((?:[(?:\\.)(?:\\-)\\w]*)\\.(org|com|gov))\", ref, flags=re.IGNORECASE))\n",
    "    \n",
    "    #remove the archive because we don't want to count them in the number of .org citation\n",
    "    d.pop('archive.org', None)\n",
    "    d.pop('web.archive.org', None)\n",
    "    d.pop('www.webcitation.org', None)\n",
    "    d.pop(\"ghostarchive.org\", None)\n",
    "    d.pop(\"doi.org\",None)\n",
    "    d.pop(\"dx.doi.org\",None)\n",
    "        \n",
    "    ids = {v: k for k, v in d.items() if v}\n",
    "    \n",
    "    return ids"
   ]
  },
  {
   "cell_type": "code",
   "execution_count": 10,
   "id": "15da12a4",
   "metadata": {},
   "outputs": [],
   "source": [
    "def get_IPCC_guardian_ipbes_from_ref(ref: str) -> dict:\n",
    "    '''\n",
    "    detects if the reference entering this program is an IPCC, ipbes or guardian citation\n",
    "    \n",
    "    param ref : the string of a citation\n",
    "    \n",
    "    return :  a dictionnary containing as keys guardian, ipbes and IPCC and in values the name of the citation extracted\n",
    "    '''\n",
    "    g={}\n",
    "    citation=list(set(re.findall(r\"(ipcc|ipbes|guardian)\", ref, flags=re.IGNORECASE)))\n",
    "    if citation !=None and citation !=[]:\n",
    "        if \"ipcc\" in citation:\n",
    "            g[\"IPCC\"]=ref\n",
    "        if \"ipbes\" in citation:\n",
    "            g[\"ipbes\"]=ref\n",
    "        if \"guardian\" in citation:\n",
    "            g[\"guardian\"]=ref\n",
    "    return g "
   ]
  },
  {
   "cell_type": "markdown",
   "id": "6807ffed",
   "metadata": {},
   "source": [
    "## Get the citations"
   ]
  },
  {
   "cell_type": "code",
   "execution_count": 11,
   "id": "079815f5",
   "metadata": {
    "id": "079815f5",
    "outputId": "1b0735ae-501c-4b44-c569-05d07c76c192",
    "scrolled": false
   },
   "outputs": [
    {
     "name": "stdout",
     "output_type": "stream",
     "text": [
      "Getting citations\n"
     ]
    },
    {
     "name": "stderr",
     "output_type": "stream",
     "text": [
      "100%|███████████████████████████████████████| 1278/1278 [00:39<00:00, 32.72it/s]\n"
     ]
    },
    {
     "name": "stdout",
     "output_type": "stream",
     "text": [
      "getting the number of references\n"
     ]
    },
    {
     "name": "stderr",
     "output_type": "stream",
     "text": [
      "100%|███████████████████████████████████| 1278/1278 [00:00<00:00, 289199.92it/s]\n"
     ]
    },
    {
     "name": "stdout",
     "output_type": "stream",
     "text": [
      "getting the number of scientific citations\n"
     ]
    },
    {
     "name": "stderr",
     "output_type": "stream",
     "text": [
      "100%|███████████████████████████████████| 1278/1278 [00:00<00:00, 235060.54it/s]\n",
      "100%|███████████████████████████████████| 1278/1278 [00:00<00:00, 180275.80it/s]\n",
      "100%|███████████████████████████████████| 1278/1278 [00:00<00:00, 159671.16it/s]\n",
      "100%|███████████████████████████████████| 1278/1278 [00:00<00:00, 369779.28it/s]\n"
     ]
    },
    {
     "name": "stdout",
     "output_type": "stream",
     "text": [
      "getting the number of .org citation\n"
     ]
    },
    {
     "name": "stderr",
     "output_type": "stream",
     "text": [
      "100%|███████████████████████████████████| 1278/1278 [00:00<00:00, 371290.47it/s]\n",
      "100%|███████████████████████████████████| 1278/1278 [00:00<00:00, 350141.78it/s]\n"
     ]
    },
    {
     "name": "stdout",
     "output_type": "stream",
     "text": [
      "getting the number of .gov citation\n"
     ]
    },
    {
     "name": "stderr",
     "output_type": "stream",
     "text": [
      "100%|███████████████████████████████████| 1278/1278 [00:00<00:00, 179725.75it/s]\n",
      "100%|███████████████████████████████████| 1278/1278 [00:00<00:00, 236763.27it/s]\n"
     ]
    },
    {
     "name": "stdout",
     "output_type": "stream",
     "text": [
      "getting the number of IPCC citation\n"
     ]
    },
    {
     "name": "stderr",
     "output_type": "stream",
     "text": [
      "100%|███████████████████████████████████| 1278/1278 [00:00<00:00, 208792.14it/s]\n"
     ]
    },
    {
     "name": "stdout",
     "output_type": "stream",
     "text": [
      "getting the .com citations\n"
     ]
    },
    {
     "name": "stderr",
     "output_type": "stream",
     "text": [
      "100%|███████████████████████████████████| 1278/1278 [00:00<00:00, 315035.00it/s]\n",
      "100%|███████████████████████████████████| 1278/1278 [00:00<00:00, 209199.57it/s]\n"
     ]
    },
    {
     "name": "stdout",
     "output_type": "stream",
     "text": [
      "getting the ipbes citation\n"
     ]
    },
    {
     "name": "stderr",
     "output_type": "stream",
     "text": [
      "100%|███████████████████████████████████| 1278/1278 [00:00<00:00, 273597.41it/s]\n"
     ]
    },
    {
     "name": "stdout",
     "output_type": "stream",
     "text": [
      "getting the guardian citation\n"
     ]
    },
    {
     "name": "stderr",
     "output_type": "stream",
     "text": [
      "100%|███████████████████████████████████| 1278/1278 [00:00<00:00, 248300.93it/s]\n",
      "100%|███████████████████████████████████| 1278/1278 [00:00<00:00, 195204.68it/s]\n"
     ]
    },
    {
     "name": "stdout",
     "output_type": "stream",
     "text": [
      "Done!\n"
     ]
    },
    {
     "data": {
      "text/html": [
       "<div>\n",
       "<style scoped>\n",
       "    .dataframe tbody tr th:only-of-type {\n",
       "        vertical-align: middle;\n",
       "    }\n",
       "\n",
       "    .dataframe tbody tr th {\n",
       "        vertical-align: top;\n",
       "    }\n",
       "\n",
       "    .dataframe thead th {\n",
       "        text-align: right;\n",
       "    }\n",
       "</style>\n",
       "<table border=\"1\" class=\"dataframe\">\n",
       "  <thead>\n",
       "    <tr style=\"text-align: right;\">\n",
       "      <th></th>\n",
       "      <th>parentid</th>\n",
       "      <th>revid</th>\n",
       "      <th>size</th>\n",
       "      <th>text</th>\n",
       "      <th>timestamp</th>\n",
       "      <th>citations</th>\n",
       "      <th>Ref count</th>\n",
       "      <th>nb_scientific_citations</th>\n",
       "      <th>journalcitation</th>\n",
       "      <th>journal</th>\n",
       "      <th>...</th>\n",
       "      <th>citationipbes</th>\n",
       "      <th>citationguardian</th>\n",
       "      <th>list_IPCC</th>\n",
       "      <th>citationtext_total</th>\n",
       "      <th>org count</th>\n",
       "      <th>gov count</th>\n",
       "      <th>com count</th>\n",
       "      <th>Sci count</th>\n",
       "      <th>IPCC count</th>\n",
       "      <th>percentage of official sources</th>\n",
       "    </tr>\n",
       "  </thead>\n",
       "  <tbody>\n",
       "    <tr>\n",
       "      <th>0</th>\n",
       "      <td>1218638171</td>\n",
       "      <td>1219189506</td>\n",
       "      <td>226781</td>\n",
       "      <td>{{short description|Psychoactive chemical}}\\n{...</td>\n",
       "      <td>2024-04-16 07:43:22</td>\n",
       "      <td>{'Ref count': 273, 'Ref': ['{{cite book|last1=...</td>\n",
       "      <td>273</td>\n",
       "      <td>186</td>\n",
       "      <td>[None, 10.1097/00063110-200410000-00013, 10.38...</td>\n",
       "      <td>[journal of emergency medicine ,  postgraduate...</td>\n",
       "      <td>...</td>\n",
       "      <td>0</td>\n",
       "      <td>0</td>\n",
       "      <td>[{}, {'pmid': '15359207', 'doi': '10.1097/0006...</td>\n",
       "      <td>[drugabuse.gov, www.fda.gov, pubmed.ncbi.nlm.n...</td>\n",
       "      <td>0.065934</td>\n",
       "      <td>0.032967</td>\n",
       "      <td>0.175824</td>\n",
       "      <td>0.681319</td>\n",
       "      <td>0.0</td>\n",
       "      <td>0.78022</td>\n",
       "    </tr>\n",
       "    <tr>\n",
       "      <th>1</th>\n",
       "      <td>1217470626</td>\n",
       "      <td>1218638171</td>\n",
       "      <td>226830</td>\n",
       "      <td>{{short description|Psychoactive chemical}}\\n{...</td>\n",
       "      <td>2024-04-12 22:07:18</td>\n",
       "      <td>{'Ref count': 273, 'Ref': ['{{cite book|last1=...</td>\n",
       "      <td>273</td>\n",
       "      <td>186</td>\n",
       "      <td>[None, 10.1097/00063110-200410000-00013, 10.38...</td>\n",
       "      <td>[journal of emergency medicine ,  postgraduate...</td>\n",
       "      <td>...</td>\n",
       "      <td>0</td>\n",
       "      <td>0</td>\n",
       "      <td>[{}, {'pmid': '15359207', 'doi': '10.1097/0006...</td>\n",
       "      <td>[drugabuse.gov, www.fda.gov, pubmed.ncbi.nlm.n...</td>\n",
       "      <td>0.065934</td>\n",
       "      <td>0.032967</td>\n",
       "      <td>0.175824</td>\n",
       "      <td>0.681319</td>\n",
       "      <td>0.0</td>\n",
       "      <td>0.78022</td>\n",
       "    </tr>\n",
       "    <tr>\n",
       "      <th>2</th>\n",
       "      <td>1213912529</td>\n",
       "      <td>1217470626</td>\n",
       "      <td>228196</td>\n",
       "      <td>{{short description|Psychoactive chemical}}\\n{...</td>\n",
       "      <td>2024-04-06 01:03:25</td>\n",
       "      <td>{'Ref count': 273, 'Ref': ['{{cite journal | v...</td>\n",
       "      <td>273</td>\n",
       "      <td>186</td>\n",
       "      <td>[10.1097/00063110-200410000-00013, 10.3810/pgm...</td>\n",
       "      <td>[journal of emergency medicine ,  postgraduate...</td>\n",
       "      <td>...</td>\n",
       "      <td>0</td>\n",
       "      <td>0</td>\n",
       "      <td>[{'pmid': '15359207', 'doi': '10.1097/00063110...</td>\n",
       "      <td>[www.fda.gov, pubmed.ncbi.nlm.nih.gov, drugabu...</td>\n",
       "      <td>0.065934</td>\n",
       "      <td>0.032967</td>\n",
       "      <td>0.175824</td>\n",
       "      <td>0.681319</td>\n",
       "      <td>0.0</td>\n",
       "      <td>0.78022</td>\n",
       "    </tr>\n",
       "    <tr>\n",
       "      <th>3</th>\n",
       "      <td>1213522866</td>\n",
       "      <td>1213912529</td>\n",
       "      <td>228206</td>\n",
       "      <td>{{short description|Psychoactive chemical}}\\n{...</td>\n",
       "      <td>2024-03-15 21:47:53</td>\n",
       "      <td>{'Ref count': 273, 'Ref': ['{{cite journal | v...</td>\n",
       "      <td>273</td>\n",
       "      <td>186</td>\n",
       "      <td>[10.1097/00063110-200410000-00013, 10.3810/pgm...</td>\n",
       "      <td>[journal of emergency medicine ,  postgraduate...</td>\n",
       "      <td>...</td>\n",
       "      <td>0</td>\n",
       "      <td>0</td>\n",
       "      <td>[{'pmid': '15359207', 'doi': '10.1097/00063110...</td>\n",
       "      <td>[www.fda.gov, pubmed.ncbi.nlm.nih.gov, drugabu...</td>\n",
       "      <td>0.065934</td>\n",
       "      <td>0.032967</td>\n",
       "      <td>0.175824</td>\n",
       "      <td>0.681319</td>\n",
       "      <td>0.0</td>\n",
       "      <td>0.78022</td>\n",
       "    </tr>\n",
       "    <tr>\n",
       "      <th>4</th>\n",
       "      <td>1211726128</td>\n",
       "      <td>1213522866</td>\n",
       "      <td>228176</td>\n",
       "      <td>{{short description|Psychoactive chemical}}\\n{...</td>\n",
       "      <td>2024-03-13 15:29:45</td>\n",
       "      <td>{'Ref count': 273, 'Ref': ['{{cite journal | v...</td>\n",
       "      <td>273</td>\n",
       "      <td>186</td>\n",
       "      <td>[10.1097/00063110-200410000-00013, 10.3810/pgm...</td>\n",
       "      <td>[journal of emergency medicine ,  postgraduate...</td>\n",
       "      <td>...</td>\n",
       "      <td>0</td>\n",
       "      <td>0</td>\n",
       "      <td>[{'pmid': '15359207', 'doi': '10.1097/00063110...</td>\n",
       "      <td>[www.fda.gov, pubmed.ncbi.nlm.nih.gov, drugabu...</td>\n",
       "      <td>0.065934</td>\n",
       "      <td>0.032967</td>\n",
       "      <td>0.175824</td>\n",
       "      <td>0.681319</td>\n",
       "      <td>0.0</td>\n",
       "      <td>0.78022</td>\n",
       "    </tr>\n",
       "  </tbody>\n",
       "</table>\n",
       "<p>5 rows × 28 columns</p>\n",
       "</div>"
      ],
      "text/plain": [
       "     parentid       revid    size  \\\n",
       "0  1218638171  1219189506  226781   \n",
       "1  1217470626  1218638171  226830   \n",
       "2  1213912529  1217470626  228196   \n",
       "3  1213522866  1213912529  228206   \n",
       "4  1211726128  1213522866  228176   \n",
       "\n",
       "                                                text           timestamp  \\\n",
       "0  {{short description|Psychoactive chemical}}\\n{... 2024-04-16 07:43:22   \n",
       "1  {{short description|Psychoactive chemical}}\\n{... 2024-04-12 22:07:18   \n",
       "2  {{short description|Psychoactive chemical}}\\n{... 2024-04-06 01:03:25   \n",
       "3  {{short description|Psychoactive chemical}}\\n{... 2024-03-15 21:47:53   \n",
       "4  {{short description|Psychoactive chemical}}\\n{... 2024-03-13 15:29:45   \n",
       "\n",
       "                                           citations  Ref count  \\\n",
       "0  {'Ref count': 273, 'Ref': ['{{cite book|last1=...        273   \n",
       "1  {'Ref count': 273, 'Ref': ['{{cite book|last1=...        273   \n",
       "2  {'Ref count': 273, 'Ref': ['{{cite journal | v...        273   \n",
       "3  {'Ref count': 273, 'Ref': ['{{cite journal | v...        273   \n",
       "4  {'Ref count': 273, 'Ref': ['{{cite journal | v...        273   \n",
       "\n",
       "   nb_scientific_citations                                    journalcitation  \\\n",
       "0                      186  [None, 10.1097/00063110-200410000-00013, 10.38...   \n",
       "1                      186  [None, 10.1097/00063110-200410000-00013, 10.38...   \n",
       "2                      186  [10.1097/00063110-200410000-00013, 10.3810/pgm...   \n",
       "3                      186  [10.1097/00063110-200410000-00013, 10.3810/pgm...   \n",
       "4                      186  [10.1097/00063110-200410000-00013, 10.3810/pgm...   \n",
       "\n",
       "                                             journal  ...  citationipbes  \\\n",
       "0  [journal of emergency medicine ,  postgraduate...  ...              0   \n",
       "1  [journal of emergency medicine ,  postgraduate...  ...              0   \n",
       "2  [journal of emergency medicine ,  postgraduate...  ...              0   \n",
       "3  [journal of emergency medicine ,  postgraduate...  ...              0   \n",
       "4  [journal of emergency medicine ,  postgraduate...  ...              0   \n",
       "\n",
       "   citationguardian                                          list_IPCC  \\\n",
       "0                 0  [{}, {'pmid': '15359207', 'doi': '10.1097/0006...   \n",
       "1                 0  [{}, {'pmid': '15359207', 'doi': '10.1097/0006...   \n",
       "2                 0  [{'pmid': '15359207', 'doi': '10.1097/00063110...   \n",
       "3                 0  [{'pmid': '15359207', 'doi': '10.1097/00063110...   \n",
       "4                 0  [{'pmid': '15359207', 'doi': '10.1097/00063110...   \n",
       "\n",
       "                                  citationtext_total org count  gov count  \\\n",
       "0  [drugabuse.gov, www.fda.gov, pubmed.ncbi.nlm.n...  0.065934   0.032967   \n",
       "1  [drugabuse.gov, www.fda.gov, pubmed.ncbi.nlm.n...  0.065934   0.032967   \n",
       "2  [www.fda.gov, pubmed.ncbi.nlm.nih.gov, drugabu...  0.065934   0.032967   \n",
       "3  [www.fda.gov, pubmed.ncbi.nlm.nih.gov, drugabu...  0.065934   0.032967   \n",
       "4  [www.fda.gov, pubmed.ncbi.nlm.nih.gov, drugabu...  0.065934   0.032967   \n",
       "\n",
       "   com count Sci count  IPCC count  percentage of official sources  \n",
       "0   0.175824  0.681319         0.0                         0.78022  \n",
       "1   0.175824  0.681319         0.0                         0.78022  \n",
       "2   0.175824  0.681319         0.0                         0.78022  \n",
       "3   0.175824  0.681319         0.0                         0.78022  \n",
       "4   0.175824  0.681319         0.0                         0.78022  \n",
       "\n",
       "[5 rows x 28 columns]"
      ]
     },
     "execution_count": 11,
     "metadata": {},
     "output_type": "execute_result"
    }
   ],
   "source": [
    "print('Getting citations')\n",
    "df['citations'] = df['text'].progress_apply(lambda x: get_citations(x))\n",
    "\n",
    "print(\"getting the number of references\")\n",
    "df['Ref count'] = df['citations'].progress_apply(lambda x: x['Ref count'])\n",
    "\n",
    "print(\"getting the number of scientific citations\")\n",
    "df['nb_scientific_citations'] = df['citations'].progress_apply(lambda x: x['nb_journal_citations'])\n",
    "df[\"journalcitation\"] = df['citations'].progress_apply(lambda x: x['citationjournal'])\n",
    "df[\"journal\"] = df['citations'].progress_apply(lambda x: x['journal'])\n",
    "df[\"nbjournaldetected\"]=df['citations'].progress_apply(lambda x: x['journal_count'])\n",
    "\n",
    "\n",
    "\n",
    "print(\"getting the number of .org citation\")\n",
    "df[\"citation org\"]=df['citations'].progress_apply(lambda x: x['citations.org'])\n",
    "df[\"citationorgtext\"]=df['citations'].progress_apply(lambda x: x[\"citationorgtext\"])\n",
    "\n",
    "print(\"getting the number of .gov citation\")\n",
    "df[\"citation gov\"]=df['citations'].progress_apply(lambda x: x[\"citations.gov\"])\n",
    "df[\"citationgovtext\"]=df['citations'].progress_apply(lambda x: x[\"citationgovtext\"])\n",
    "\n",
    "print(\"getting the number of IPCC citation\")\n",
    "df[\"citation IPCC\"]=df['citations'].progress_apply(lambda x: x[\"citationsIPCC.ch\"])\n",
    "\n",
    "print(\"getting the .com citations\")\n",
    "df[\"citation com\"]=df['citations'].progress_apply(lambda x: x[\"citations.com\"])\n",
    "df[\"citationcomtext\"]=df['citations'].progress_apply(lambda x: x[\"citationcomtext\"])\n",
    "\n",
    "print(\"getting the ipbes citation\")\n",
    "df[\"citationipbes\"]=df['citations'].progress_apply(lambda x: x[\"citationsipbes\"])\n",
    "\n",
    "print(\"getting the guardian citation\")\n",
    "df[\"citationguardian\"]=df['citations'].progress_apply(lambda x: x[\"citationguardian\"])\n",
    "\n",
    "df[\"list_IPCC\"]=df['citations'].progress_apply(lambda x: x[\"ids\"])\n",
    "df[\"citationtext_total\"]=df[\"citationgovtext\"]+df[\"citationcomtext\"]+df[\"citationorgtext\"]+df[\"journal\"]\n",
    "\n",
    "df[\"org count\"]=df[\"citation org\"]/df[\"Ref count\"]\n",
    "df[\"gov count\"]=df[\"citation gov\"]/df[\"Ref count\"]\n",
    "df[\"com count\"]=df[\"citation com\"]/df[\"Ref count\"]\n",
    "df[\"Sci count\"]=df['nb_scientific_citations']/df['Ref count']\n",
    "df['IPCC count']=df['citation IPCC']/df['Ref count']\n",
    "df['percentage of official sources']=(df['nb_scientific_citations']+ df['citation gov']+ df['citation org']+df['citation IPCC']+df['citationipbes'])/df['Ref count']\n",
    "\n",
    "\n",
    "print('Done!')\n",
    "df.head()"
   ]
  },
  {
   "cell_type": "code",
   "execution_count": 12,
   "id": "118dd460",
   "metadata": {},
   "outputs": [],
   "source": [
    "df.set_index(\"timestamp\",inplace=True)"
   ]
  },
  {
   "cell_type": "code",
   "execution_count": 13,
   "id": "da30861e",
   "metadata": {},
   "outputs": [],
   "source": [
    "df.index = pd.to_datetime(df.index)"
   ]
  },
  {
   "cell_type": "code",
   "execution_count": 14,
   "id": "4594dbc5",
   "metadata": {},
   "outputs": [
    {
     "data": {
      "image/png": "[encoded data removed]",
      "text/plain": [
       "<Figure size 432x288 with 1 Axes>"
      ]
     },
     "metadata": {
      "needs_background": "light"
     },
     "output_type": "display_data"
    }
   ],
   "source": [
    "ax=sns.lineplot(data=[df[\"size\"]]).set(title='Growth of size in time',xlabel='Year',ylabel='Size in bytes')"
   ]
  },
  {
   "cell_type": "code",
   "execution_count": 15,
   "id": "be7d12ba",
   "metadata": {},
   "outputs": [
    {
     "data": {
      "image/png": "[encoded data removed]",
      "text/plain": [
       "<Figure size 432x288 with 1 Axes>"
      ]
     },
     "metadata": {},
     "output_type": "display_data"
    }
   ],
   "source": [
    "sns.set_style(\"whitegrid\")\n",
    "ax=sns.lineplot(data=[df[\"nb_scientific_citations\"],df[\"citation IPCC\"],df[\"Ref count\"],df[\"Ref count\"],df[\"citation org\"],df[\"citation gov\"],df['citation com']]).set(title='Growth of references per type',ylim=(0, 300),xlabel='Year',ylabel='Reference number')\n",
    "sns.set_context(\"poster\")\n",
    "plt.legend([\"journal\",\"IPCC\",\"total\", \".org\", \".gov\",\".com\"],loc=2,bbox_to_anchor=(1,1))\n",
    "sns.set(rc={\"figure.figsize\":(12,7)})\n",
    "sns.set(font_scale=2)\n",
    "plt.savefig('evolution of citation.png')"
   ]
  },
  {
   "cell_type": "markdown",
   "id": "7b595eac",
   "metadata": {},
   "source": [
    "pourcentage of scientific references where we manage to get the name of the journal:"
   ]
  },
  {
   "cell_type": "code",
   "execution_count": 16,
   "id": "2521a551",
   "metadata": {
    "scrolled": true
   },
   "outputs": [
    {
     "data": {
      "text/plain": [
       "0.9799834627320855"
      ]
     },
     "execution_count": 16,
     "metadata": {},
     "output_type": "execute_result"
    }
   ],
   "source": [
    "df[\"nbjournaldetected\"].sum()/df[\"nb_scientific_citations\"].sum()"
   ]
  },
  {
   "cell_type": "markdown",
   "id": "9fdb6102",
   "metadata": {},
   "source": [
    "#### Clean and export the dataframes to csv"
   ]
  },
  {
   "cell_type": "code",
   "execution_count": 17,
   "id": "2b8594c1",
   "metadata": {},
   "outputs": [],
   "source": [
    "del df['citationorgtext']\n",
    "del df['citationgovtext']\n",
    "#del df['text']\n",
    "del df[\"citations\"]\n",
    "del df[\"citationcomtext\"]"
   ]
  },
  {
   "cell_type": "code",
   "execution_count": 18,
   "id": "864d3c49",
   "metadata": {
    "id": "864d3c49"
   },
   "outputs": [],
   "source": [
    "#extract the data frame to csv\n",
    "df.to_csv('OPD_historicdata_wText.csv')"
   ]
  },
  {
   "cell_type": "code",
   "execution_count": null,
   "id": "117c1a81",
   "metadata": {},
   "outputs": [],
   "source": []
  }
 ],
 "metadata": {
  "colab": {
   "collapsed_sections": [],
   "name": "Copie de V2_4Creation_data_csv_w__corpus_selection_complete.ipynb",
   "provenance": []
  },
  "kernelspec": {
   "display_name": "Python 3 (ipykernel)",
   "language": "python",
   "name": "python3"
  },
  "language_info": {
   "codemirror_mode": {
    "name": "ipython",
    "version": 3
   },
   "file_extension": ".py",
   "mimetype": "text/x-python",
   "name": "python",
   "nbconvert_exporter": "python",
   "pygments_lexer": "ipython3",
   "version": "3.9.7"
  }
 },
 "nbformat": 4,
 "nbformat_minor": 5
}
